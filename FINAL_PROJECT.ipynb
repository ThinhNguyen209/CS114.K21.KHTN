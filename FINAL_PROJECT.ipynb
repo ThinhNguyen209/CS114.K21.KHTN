{
  "nbformat": 4,
  "nbformat_minor": 0,
  "metadata": {
    "colab": {
      "name": "FINAL PROJECT",
      "provenance": [],
      "authorship_tag": "ABX9TyO6RIXWSNkFmMiSZHpdMEN0",
      "include_colab_link": true
    },
    "kernelspec": {
      "name": "python3",
      "display_name": "Python 3"
    }
  },
  "cells": [
    {
      "cell_type": "markdown",
      "metadata": {
        "id": "view-in-github",
        "colab_type": "text"
      },
      "source": [
        "<a href=\"https://colab.research.google.com/github/ThinhNguyen209/CS114.K21.KHTN/blob/master/FINAL_PROJECT.ipynb\" target=\"_parent\"><img src=\"https://colab.research.google.com/assets/colab-badge.svg\" alt=\"Open In Colab\"/></a>"
      ]
    },
    {
      "cell_type": "markdown",
      "metadata": {
        "id": "TalS6HUoyxlv",
        "colab_type": "text"
      },
      "source": [
        "# MALWARE DETECTION\n",
        "1. Mô tả bài toán: nhận biết các file malware(file đọc hại)\n",
        "+ Input: các file benign/malware\n",
        "+ Output: : nhận diện file có phải malware không?\n",
        "2. Mô tả về bộ dữ liệu:\n",
        "+ Benign:Window’s system files, Download pages,… \n",
        "\n",
        "+ Malware:Virustotal, VxHeavens website,…\n",
        "3. Các đặc trưng:\n",
        "+ Raw byte\n",
        "+ String\n",
        "+ Header\n",
        "+ Entropy\n",
        "+ Opcodes…\n",
        "4. Các thuật toán máy học:\n",
        "+ Decision tree\n",
        "+ Logistic Regression\n",
        "+ SVM\n",
        "+ KNN\n",
        "+ Random forest,...\n",
        "5. Cài đặt, tinh chỉnh tham số:\n",
        "6. Đánh giá kết quả, kết luận:\n",
        "\n",
        "\n"
      ]
    }
  ]
}